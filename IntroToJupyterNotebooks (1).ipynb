{
  "cells": [
    {
      "cell_type": "markdown",
      "metadata": {
        "deletable": false,
        "editable": false,
        "nbgrader": {
          "checksum": "42717ae8e1dabef95f6c81dca0e3bd3b",
          "grade": false,
          "grade_id": "cell-4f14f7c57afb6f02",
          "locked": true,
          "schema_version": 1,
          "solution": false
        }
      },
      "source": [
        "# Getting Started with Jupyter Notebooks"
      ]
    },
    {
      "cell_type": "markdown",
      "metadata": {
        "deletable": false,
        "editable": false,
        "nbgrader": {
          "checksum": "accbc68ac6671341a54aa8b813cd463e",
          "grade": false,
          "grade_id": "cell-1012e74ae537d8f5",
          "locked": true,
          "schema_version": 1,
          "solution": false
        }
      },
      "source": [
        "Jupyter notebooks are an alternative environment for developing and running code, as well as for integrating  documentation and graphical results.  The IPython interpreter is running inside a Jupyter notebook, and can process both Python code and IPython <code>%magic</code> functions that you enter into the input cells.  Jupyter notebooks introduce a new level of code structure, that of cells, and the IPython interpreter is running within each of those code cells.  You can group multiple Python expressions together in a cell, and those expressions only get evaluated once you execute the entire cell.  In Jupyter notebooks, a simple carriage return (<code>return</code> key on keyboard) will move you down to a new line in the same cell, but in order to <i>execute the cell</i>, you must type <code>Shift+Return</code>, i.e., the Shift and Return keys at the same time.  You can also execute the currently active cell by clicking on the `>| Run` button at the top of the page. Do not use the `Validate` button; this does not execute a cell. For a quick tour of the interface, click the <code>Help</code> tab in the menu above and find <code>User Interface Tour</code> at the top.\n",
        "\n",
        "At any given time, one cell is active and awaiting input.  The cell that is currently awaiting input is highlighted by a surrounding box and colored bar on the left edge.  You can switch between different cells just by clicking the mouse in the one you'd like to work in.\n",
        "\n",
        "Each cell has a <i>type</i> associated with it, and the default type for each new cell is \"Code\", as indicated by the drop-down selector input near the top of the page, in the row containing buttons and icons.  While Jupyter Notebooks are composed of different cells of different types, the two main cell types are \"Code\" and \"Markdown.\" Code cells enable you to enter and execute Python code, while Markdown cells allow you to write accompanying text, making use of the Markdown language for customized text formatting.\n",
        "\n",
        "Several useful functions for working with notebooks appear at the top of the page, both in a set of menu entries (File, Edit, View, etc.) and a toolbar of buttons and drop-down selectors below them that execute particular functions.  The toolbar buttons are shortcuts for functions that are also listed in the text menus at the top; for example, the up-arrow button corresponds to \"Edit > Move Cell Up\"."
      ]
    },
    {
      "cell_type": "markdown",
      "metadata": {
        "deletable": false,
        "editable": false,
        "nbgrader": {
          "checksum": "87aa5f93ead28d3a6187858864ff9dac",
          "grade": false,
          "grade_id": "cell-c0fc7423248b980a",
          "locked": true,
          "schema_version": 1,
          "solution": false
        }
      },
      "source": [
        "## Adding and Running Code in Code Cells\n",
        "\n",
        "Try running Python code in the empty input cell directly below. First click on the cell to highlight it, then enter <code>2+2</code> in the cell, and press <code>Shift+Return</code>.  You should see the result of that expression in the Out line below the input cell."
      ]
    },
    {
      "cell_type": "code",
      "execution_count": null,
      "metadata": {},
      "outputs": [],
      "source": [
        "# YOUR CODE HERE - this cell will not be graded"
      ]
    },
    {
      "cell_type": "markdown",
      "metadata": {
        "deletable": false,
        "editable": false,
        "nbgrader": {
          "checksum": "0c06f2f8588f61bce633edf0ce8ed9b7",
          "grade": false,
          "grade_id": "cell-0eb75b82ceb534f9",
          "locked": true,
          "schema_version": 1,
          "solution": false
        }
      },
      "source": [
        "Click on the empty cell below this one, and in the cell, enter and run:\n",
        "\n",
        "<code>print('Hello')</code>\n",
        "\n",
        "You should notice that the word 'Hello' is printed below in the notebook, but that there is no ```Out[ ]:``` statement associated with that, since the ```print``` function does not return any value &mdash; it just prints to the screen."
      ]
    },
    {
      "cell_type": "code",
      "execution_count": null,
      "metadata": {},
      "outputs": [],
      "source": [
        "# YOUR CODE HERE - this cell will not be graded"
      ]
    },
    {
      "cell_type": "markdown",
      "metadata": {
        "deletable": false,
        "editable": false,
        "nbgrader": {
          "checksum": "1b16fb0bb0430770fe1f1782690d86dc",
          "grade": false,
          "grade_id": "cell-a3d209dccec6d8fd",
          "locked": true,
          "schema_version": 1,
          "solution": false
        }
      },
      "source": [
        "As with any Python code, you cannot access a variable or a function if it has not been previously defined.  A notebook is a bit different from the usual IPython interpreter because you can jump around and execute code in a different order than it appears on the page, but that can lead to confusion.  You should lay out a notebook and execute cells from top to bottom in that order, so that the notebook reads like an annotated program.\n",
        "\n",
        "<b>Note:</b> Prolonged inactivity or navigating to a different page will cause the notebook session to timeout. To resume your work where you left off, be sure to re-run all of the notebook cells in order, starting again at the very beginning."
      ]
    },
    {
      "cell_type": "markdown",
      "metadata": {},
      "source": [
        "Click on the empty cell below this one, add the function below in the cell, and then press <code>Shift+Return</code> to execute the cell.  If you encounter some sort of syntax error, fix the code and re-execute the cell until it reports no errors.\n",
        "```python\n",
        "def add(x,y):\n",
        "    result = x+y\n",
        "    return result\n",
        "```"
      ]
    },
    {
      "cell_type": "code",
      "execution_count": null,
      "metadata": {},
      "outputs": [],
      "source": [
        "# YOUR CODE HERE - this cell will not be graded"
      ]
    },
    {
      "cell_type": "markdown",
      "metadata": {
        "deletable": false,
        "editable": false,
        "nbgrader": {
          "checksum": "922466865f552867b52fd6870b19bc31",
          "grade": false,
          "grade_id": "cell-798266972787d37d",
          "locked": true,
          "schema_version": 1,
          "solution": false
        }
      },
      "source": [
        "You should see that there is no output associated with the cell above that you just executed, because all you've done is define a function. In the empty cell below this one, you can confirm that the function has been defined by executing the IPython magic function <code>%whos</code>.  It should list the function named <code>add</code> that you just defined in the cell above."
      ]
    },
    {
      "cell_type": "code",
      "execution_count": null,
      "metadata": {},
      "outputs": [],
      "source": [
        "%whos"
      ]
    },
    {
      "cell_type": "markdown",
      "metadata": {
        "deletable": false,
        "editable": false,
        "nbgrader": {
          "checksum": "b02dfcb1778e1373f0a428835a63519e",
          "grade": false,
          "grade_id": "cell-3f5231535a619aaa",
          "locked": true,
          "schema_version": 1,
          "solution": false
        }
      },
      "source": [
        "And you can of course call the function that you have defined.\n",
        "\n",
        "In the cell below, enter and execute <code>add(2,2)</code> and observe the output."
      ]
    },
    {
      "cell_type": "code",
      "execution_count": null,
      "metadata": {},
      "outputs": [],
      "source": [
        "# YOUR CODE HERE - this cell will not be graded"
      ]
    },
    {
      "cell_type": "markdown",
      "metadata": {},
      "source": [
        "## Resolving Kernel Errors and Resetting Code\n",
        "\n",
        "Sometimes you may need to clear the output of executed code cells or reset the entire notebook. To clear the output, in the menu bar click \"Kernel\" and select \"Restart & Clear Output\". This not only clears all output from executed code, but also restarts the kernel, so any set variables or any other persistent action from previously executed code will be lost. You will then have to re-run all of the notebook cells in order, starting again at the very beginning.\n",
        "\n",
        "\n",
        "You may also encounter a \"kernel error\". A kernel error typically arises when attempting to open a Python file in an incorrect directory. It's important to understand that Jupyter and Python are distinct software entities. Therefore, a kernel error occurs when Jupyter fails to establish a connection with a designated version of Python. \n",
        "You can reset the kernel when experiencing kernel errors by going to \"Kernel\" menu and selecting \"Restart\"."
      ]
    },
    {
      "cell_type": "markdown",
      "metadata": {
        "deletable": false,
        "editable": false,
        "nbgrader": {
          "checksum": "6efbad91fe4d14a69a1638cc17cf7ee3",
          "grade": false,
          "grade_id": "cell-a3e003be596c733f",
          "locked": true,
          "schema_version": 1,
          "solution": false
        }
      },
      "source": [
        "## Adding and Rendering Text in Markdown Cells\n",
        "\n",
        "You can specify the type of the current, highlighted cell by going to the \"Cell\" menu and selecting \"Cell Type.\"  You can also specify this in the drop-down selector in the toolbar.\n",
        "\n",
        "Below this cell is another empty cell &mdash; click on it to select and highlight it. Then click on the cell type selector at the top, and change the type for the new empty input cell to \"Markdown\".  Markdown is a simple text formatting language that is used in many web applications.  When you change the type of a cell to Markdown, it no longer expects Python code, but instead Markdown text.  After changing the type, you can enter some text: type \n",
        "\n",
        "\"Exploring Jupyter Notebooks\"\n",
        "\n",
        "and then <code>Shift+Return</code> to execute the cell.  Once you execute a Markdown cell, the font changes in the notebook, as the Markdown code is rendered.\n",
        "\n",
        "Let's say you wanted to render the text you just typed in a bold header font.  Double-click on the same Markdown cell in which you just added the text \"Exploring Jupyter Notebooks\" to get it back into a cell-editing state. Put two pound signs <code>##</code> followed by a space at the front of the line, so that the entire text now reads \n",
        "\n",
        "\"## Exploring Jupyter Notebooks\"\n",
        "\n",
        "The pound signs are Markdown formatting code. This indicates that you'd like this text to be in a header font (header level 2).  Type  <code>Shift+Return</code>, and you should see that the text has been re-rendered in a bigger font.\n",
        "\n",
        "<b>Note:</b> If you accidentally enter into a Markdown cell's editing view, pressing <code>Shift+Return</code> or selecting Run in the menu bar will return the cell to the rendered Markdown view."
      ]
    },
    {
      "cell_type": "code",
      "execution_count": null,
      "metadata": {},
      "outputs": [],
      "source": [
        "# YOUR MARKDOWN HERE - this cell will not be graded"
      ]
    },
    {
      "cell_type": "markdown",
      "metadata": {
        "deletable": false,
        "editable": false,
        "nbgrader": {
          "checksum": "64e6fa2819ad4b3f4c2bb361d3f1e169",
          "grade": false,
          "grade_id": "cell-25fc6be9f3da7a8c",
          "locked": true,
          "schema_version": 1,
          "solution": false
        }
      },
      "source": [
        "Sometimes you'll forget to change the type to Markdown when you want to enter some text, and the IPython interpreter will think you are trying to enter code, at which point it will complain (usually by reporting a SyntaxError) &mdash; you can just change the cell type to Markdown and re-execute it."
      ]
    },
    {
      "cell_type": "markdown",
      "metadata": {
        "deletable": false,
        "editable": false,
        "nbgrader": {
          "checksum": "a78e4f4a3eab19a3b1e490c862847493",
          "grade": false,
          "grade_id": "cell-f69e1f8b34498246",
          "locked": true,
          "schema_version": 1,
          "solution": false
        }
      },
      "source": [
        "## Reordering Cells\n",
        "\n",
        "You can reorder cells in your notebook with the up and down arrow buttons in the toolbar at the top.  Click on the  Markdown cell that you created that reads \"Exploring Jupyter notebooks\" (in order to select and highlight that cell), and then click on the up-arrow button in the toolbar at the top of the page to move it up past the cell above it.  You can move it up as far as you want in order to position it where you want.  Similarly, the down-arrow key in the toolbar lets you move a cell down through the notebook."
      ]
    },
    {
      "cell_type": "markdown",
      "metadata": {
        "deletable": false,
        "editable": false,
        "nbgrader": {
          "checksum": "80d2082e2e6edc4c8b37d8526350343f",
          "grade": false,
          "grade_id": "cell-2f9ec328f0516a2f",
          "locked": true,
          "schema_version": 1,
          "solution": false
        }
      },
      "source": [
        "## Deleting (cutting) Cells\n",
        "\n",
        "The call to <code>%whos</code> was useful to check things interactively, but maybe you don't want to keep that around in your notebook for posterity.  To remove that cell, click on it to highlight it, and then click on the scissors button in the toolbar, which cuts selected cells.  The cell you have highlighted is removed.  Many of the toolbar buttons can act on multiple cells at a time: you can use <code>Shift+Click</code> to highlight multiple cells, and then operate on them as a group (up-arrow, down-arrow, cut, etc.)."
      ]
    },
    {
      "cell_type": "markdown",
      "metadata": {
        "deletable": false,
        "editable": false,
        "nbgrader": {
          "checksum": "59b6496ec03daeb09301c091b43372c6",
          "grade": false,
          "grade_id": "cell-1749a470447180f7",
          "locked": true,
          "schema_version": 1,
          "solution": false
        }
      },
      "source": [
        "## Help\n",
        "\n",
        "The IPython help displays a little bit differently in a Jupyter notebook than in a terminal on you local computer.  Enter and execute <code>add?</code> in the empty cell below this one.  You should note that documentation about the add function appears in a separate panel at the bottom of the page.  You can resize that panel if you want to make it bigger, scroll through it if the documentation doesn't fit all on one line, and remove it once you're done reading the documentation by clicking on the X in the upper right corner of the panel."
      ]
    },
    {
      "cell_type": "code",
      "execution_count": null,
      "metadata": {},
      "outputs": [],
      "source": [
        "# YOUR CODE HERE - this cell will not be graded"
      ]
    },
    {
      "cell_type": "markdown",
      "metadata": {},
      "source": [
        "## Convenience Features\n",
        "There are additional features you can enable to improve your experience.\n",
        "\n",
        "*  You can view line numbers inside each code block. This can be enabled or disabled by selecting <code>Toggle Line Numbers</code> in the <code>View</code> menu. You can also select the corresponding button in the toolbar. \n",
        "<img src='linenumbers.png' width='50' height='50'/>\n",
        "\n",
        "* A table of contents that contains a list of all sections in the notebook can be found under the Navigate menu item.\n",
        "Click on the bottom right arrow in the Navigate menu item, and drag it to expand the window and display the table of contents. Note the contents. In this notebook, the table of contents will contain \"Notebook menus and toolbars,\" \"Deleting Cells, \"Convenience Features,\"etc. You to click on a section and navigate to it. You can also select the Table of Contents button in the toolbar and a new panel containing the Table of Contents will appear. \n",
        "<img src='TOC.png' width='50' height='50'/>\n",
        "\n",
        "* You can view all the variables in the current environment by clicking on the following button in the toolbar.\n",
        "<img src='variableinspector.png' width='50' height='50'/>\n",
        "  \n",
        "\n"
      ]
    },
    {
      "cell_type": "markdown",
      "metadata": {
        "deletable": false,
        "editable": false,
        "nbgrader": {
          "checksum": "1d1084656f167394b64906702b07c203",
          "grade": false,
          "grade_id": "cell-0d0cc2d1614f0718",
          "locked": true,
          "schema_version": 1,
          "solution": false
        }
      },
      "source": [
        "## Downloading Your notebook\n",
        "\n",
        "If you would like to download a copy of your completed Jupyter Notebook, select <code>File->Download as</code> from the menu at the top of the notebook, and then select your preferred file format. \n",
        "\n",
        "If you choose to download your notebook in <code>.ipynb</code> format, you will notice that once downloaded, your notebook might have a filename extension <code>.ipynb.json</code>. If that is the case, you should change the file extension to <code>.ipynb</code> in order to properly open your notebook using Jupyter on your local machine.\n",
        "\n",
        "If you would like to produce a static version of the notebook rendered in HTML, which you might want to share with someone who can view it in a web browser, selection <code>File->Download as->HTML (.html)</code>.\n"
      ]
    },
    {
      "cell_type": "markdown",
      "metadata": {
        "deletable": false,
        "editable": false,
        "nbgrader": {
          "checksum": "680565685a4c06c31bba0dbb338161d7",
          "grade": false,
          "grade_id": "cell-6f0f35cfb1d0a9b1",
          "locked": true,
          "schema_version": 1,
          "solution": false
        }
      },
      "source": [
        "## Graded Cells, Practice Cells and Self-Check Cells\n",
        "\n",
        "Some Jupyter Notebooks in the online portion of this program will be graded. You will have both auto-graded assignments and assignments that will be graded by a facilitator. In both cases, the Jupyter Notebooks will contain graded cells that will be labeled accordingly. \n",
        "\n",
        "Other cells will require you to add code, but will not be graded. These are meant to give you practice. \n",
        "\n",
        "Graded cells and practice cells will both contain the line <code># YOUR CODE HERE</code>. Remove this line and replace it with your code.\n",
        "\n",
        "Auto-graded cells will contain an extra line `raise NotImplementedError()`. Remove this line before testing your code and submitting your code for grading.\n",
        "\n",
        "Throughout these exercises, we will provide you with the ability to self-test some of the code that you have written.  These self-checks will follow code cells and will be labeled accordingly.\n",
        "\n",
        "You will test the self-check test's functionality in the cells below:\n",
        "\n",
        "1. You will write some code in the first code cell. Remove the lines containing <code># YOUR CODE HERE</code> and <code>raise NotImplemetedError()</code> and replace them with the <code>multiply</code> function below. Then press <code>Shift+Return</code>to execute the cell.  If you encounter some sort of syntax error, fix the code and re-execute the cell until it reports no errors.\n",
        "\n",
        "```python\n",
        "def multiply(x,y):\n",
        "    result = x*y\n",
        "    return result\n",
        "```\n",
        "\n",
        "\n",
        "2. The second code cell contains a self-check test. Do not write or delete any code in this cell. You should execute the  cell to check whether the self-check passes.  If it does, you'll get a congratulatory note like \"Nice job!\" or \"Correct!\".  If it does not, you will see an error message.  If an error is detected, simply go back to the piece of code that is being tested and try to correct the error, and then run the self-test again.  You can do this as many times as is necessary.  "
      ]
    },
    {
      "cell_type": "markdown",
      "metadata": {
        "deletable": false,
        "editable": false,
        "nbgrader": {
          "checksum": "281888df1906619fb4248c553b3472bd",
          "grade": false,
          "grade_id": "cell-b8a2d16240314e57",
          "locked": true,
          "schema_version": 1,
          "solution": false
        }
      },
      "source": [
        "### Graded Cell\n",
        "\n",
        "The cell below will be graded. Remove the line \"raise NotImplementedError()\" before writing your code."
      ]
    },
    {
      "cell_type": "code",
      "execution_count": 2,
      "metadata": {
        "deletable": false,
        "nbgrader": {
          "checksum": "7c43db2b5eb5335a84d3b0e8a6179495",
          "grade": false,
          "grade_id": "cell-bf8db725abb5a299",
          "locked": false,
          "schema_version": 1,
          "solution": true
        }
      },
      "outputs": [],
      "source": [
        "def multiply(x,y):\n",
        "    result = x*y\n",
        "    return result"
      ]
    },
    {
      "cell_type": "markdown",
      "metadata": {
        "deletable": false,
        "editable": false,
        "nbgrader": {
          "checksum": "e4aa0a15da36f69b4b4df47261b2946e",
          "grade": false,
          "grade_id": "cell-e737726b50234217",
          "locked": true,
          "schema_version": 1,
          "solution": false
        }
      },
      "source": [
        "### Self-Check\n",
        "\n",
        "Run the cell below to test the correctness of your code above before submitting for grading. Do not add code or delete code in the cell."
      ]
    },
    {
      "cell_type": "code",
      "execution_count": null,
      "metadata": {
        "deletable": false,
        "editable": false,
        "nbgrader": {
          "checksum": "d01c98d93d0ead844ef8ee6c9fe9802e",
          "grade": true,
          "grade_id": "cell-c4c9260c7ef05448",
          "locked": true,
          "points": 2,
          "schema_version": 1,
          "solution": false
        }
      },
      "outputs": [],
      "source": [
        "# Run this self-test cell to check your code; \n",
        "# do not add code or delete code in this cell\n",
        "from jn import testMultiply\n",
        "\n",
        "try:  \n",
        "    print(testMultiply(multiply))\n",
        "except Exception as e:\n",
        "    print(\"Error!\\n\" + str(e))\n",
        "    "
      ]
    },
    {
      "cell_type": "markdown",
      "metadata": {},
      "source": [
        "## Submitting Your Code\n",
        "\n",
        "Once you have completed your work on your notebook, you will submit it for grading. Follow these steps:\n",
        "\n",
        "1. Save your work by selecting the \"Save and Checkpoint\" entry from the \"File\" menu at the top of the notebook.\n",
        "\n",
        "2. In the blue menu bar along the top of this code exercise window, you will see a menu item called \"Education\". In the \"Education\" menu, click \"Mark as Completed\" to submit your code for grading. \n",
        "\n",
        "<b>Please note</b>: Some notebooks will not contain graded exercises. Therefore, these notebooks will not contain a \"Mark as Completed\" option. "
      ]
    },
    {
      "cell_type": "markdown",
      "metadata": {
        "deletable": false,
        "editable": false,
        "nbgrader": {
          "checksum": "761452dd780d73518ddf2cc6faf6258f",
          "grade": false,
          "grade_id": "cell-83b688eb8bcdf4a1",
          "locked": true,
          "schema_version": 1,
          "solution": false
        }
      },
      "source": [
        "**Congratulations!** You've begun to learn how to use a very powerful tool for integrating code, results, figures and documentation.  \n",
        "\n",
        "When you are finished, remember to save your work and submit it by clicking the \"Education\" button in the top left corner of this window and choosing \"Mark as Completed.\"\n",
        "\n",
        "You'll get a lot more experience working with Jupyter notebooks, but feel free to explore some more within this notebook.  You can modify some of the code and Markdown that is already on this page, or you can use the empty cell below to try out some new things.  "
      ]
    },
    {
      "cell_type": "code",
      "execution_count": null,
      "metadata": {},
      "outputs": [],
      "source": [
        "# YOUR CODE HERE - this cell will not be graded"
      ]
    }
  ],
  "metadata": {
    "kernelspec": {
      "display_name": "Python 3",
      "language": "python",
      "name": "python3"
    },
    "language_info": {
      "codemirror_mode": {
        "name": "ipython",
        "version": 3
      },
      "file_extension": ".py",
      "mimetype": "text/x-python",
      "name": "python",
      "nbconvert_exporter": "python",
      "pygments_lexer": "ipython3",
      "version": "3.6.9"
    },
    "toc": {
      "base_numbering": 1,
      "nav_menu": {
        "height": "92px",
        "width": "199px"
      },
      "number_sections": false,
      "sideBar": true,
      "skip_h1_title": false,
      "title_cell": "Table of Contents",
      "title_sidebar": "Contents",
      "toc_cell": false,
      "toc_position": {},
      "toc_section_display": true,
      "toc_window_display": false
    },
    "varInspector": {
      "cols": {
        "lenName": 16,
        "lenType": 16,
        "lenVar": 40
      },
      "kernels_config": {
        "python": {
          "delete_cmd_postfix": "",
          "delete_cmd_prefix": "del ",
          "library": "var_list.py",
          "varRefreshCmd": "print(var_dic_list())"
        },
        "r": {
          "delete_cmd_postfix": ") ",
          "delete_cmd_prefix": "rm(",
          "library": "var_list.r",
          "varRefreshCmd": "cat(var_dic_list()) "
        }
      },
      "types_to_exclude": [
        "module",
        "function",
        "builtin_function_or_method",
        "instance",
        "_Feature"
      ],
      "window_display": false
    }
  },
  "nbformat": 4,
  "nbformat_minor": 2
}